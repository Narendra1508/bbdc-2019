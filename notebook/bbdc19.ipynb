{
 "cells": [
  {
   "cell_type": "markdown",
   "metadata": {},
   "source": [
    "# Import necessary libraries"
   ]
  },
  {
   "cell_type": "code",
   "execution_count": 1,
   "metadata": {},
   "outputs": [],
   "source": [
    "import os\n",
    "import warnings  # To ignore any warnings warnings.filterwarnings(\"ignore\")\n",
    "from glob import glob  # glob uses the wildcard pattern to create an iterable object file names # containing all matching file names in the current directory.\n",
    "\n",
    "import numpy as np  # For mathematical calculations\n",
    "import pandas as pd  # For Pandas DataFrame\n",
    "from scipy.stats import kurtosis, skew  # To calculate skewness, kurtosis\n",
    "\n",
    "import seaborn as sns                  # For data visualization \n",
    "import matplotlib.pyplot as plt        # For plotting graphs \n",
    "plt.rcParams['font.size'] = 22\n",
    "%matplotlib inline \n",
    "import warnings                        # To ignore any warnings warnings.filterwarnings(\"ignore\")\n",
    "\n",
    "import pickle\n",
    "import errno"
   ]
  },
  {
   "cell_type": "code",
   "execution_count": 2,
   "metadata": {},
   "outputs": [],
   "source": [
    "sns.set(style='whitegrid', palette='muted', font_scale=1.5)"
   ]
  },
  {
   "cell_type": "code",
   "execution_count": null,
   "metadata": {
    "scrolled": true
   },
   "outputs": [],
   "source": [
    "os.listdir(\"./../dataset\")"
   ]
  },
  {
   "cell_type": "markdown",
   "metadata": {},
   "source": [
    "# Feature Extraction"
   ]
  },
  {
   "cell_type": "code",
   "execution_count": null,
   "metadata": {},
   "outputs": [],
   "source": [
    "def main(train_label_df, feature, data_flag):\n",
    "    #list all subject's data floder\n",
    "    folders = os.listdir(\"./../dataset/\" + data_flag)\n",
    "    \n",
    "    df = pd.DataFrame()\n",
    "\n",
    "    for folder in set(folders):\n",
    "        # read all the datasets one by one for each subject in the directory listing\n",
    "        data_df = pd.DataFrame(fetch_train_data(folder , feature))\n",
    "        \n",
    "        # add the labels to training data\n",
    "        if(data_flag == 'train'):\n",
    "            data_df['activity'] = train_label_df.loc[train_label_df.Subject == folder]['Label'].to_list()\n",
    "        \n",
    "        # append each subject's dataframe to a common dataframe\n",
    "        df = df.append(data_df, ignore_index=True)\n",
    "\n",
    "    # random shuffling of all test/train data\n",
    "    df = df.sample(frac=1).reset_index(drop=True)\n",
    "    df = df.add_prefix(feature+\"_\")\n",
    "\n",
    "    # write the file with extracted features\n",
    "    out_file = \"./../dataset/pickle/\"+ data_flag +\"/\"+ feature +\".pickle\"\n",
    "    if not os.path.exists(os.path.dirname(out_file)):\n",
    "        try:\n",
    "            os.makedirs(os.path.dirname(out_file))\n",
    "        except OSError as exc: # Guard against race condition\n",
    "            if exc.errno != errno.EEXIST:\n",
    "                raise\n",
    "\n",
    "    pickle_out = open(out_file,\"wb\")\n",
    "    pickle.dump(df, pickle_out)\n",
    "\n",
    "    print(\"Excuted Successfully\")\n",
    "\n",
    "# Here is the function to fecth the summarised training data of each subject\n",
    "def fetch_train_data(folder, feature):\n",
    "    column_names = ['EMG1'\n",
    "                ,'EMG2'\n",
    "                ,'EMG3'\n",
    "                ,'EMG4'\n",
    "                ,'Airborne'\n",
    "                ,'ACC upper X'\n",
    "                ,'ACC upper Y'\n",
    "                ,'ACC upper Z'\n",
    "                ,'Goniometer X'\n",
    "                ,'ACC lower X'\n",
    "                ,'ACC lower Y'\n",
    "                ,'ACC loewr Z'\n",
    "                ,'Goniometer Y'\n",
    "                ,'gyro upper X'\n",
    "                ,'gyro upper Y'\n",
    "                ,'gyro upper Z'\n",
    "                ,'gyro lower X'\n",
    "                ,'gyro lower Y'\n",
    "                ,'gyro lower Z'\n",
    "            ]\n",
    "    # DataFrame to hold each processed dataset\n",
    "    dataframe = pd.DataFrame()\n",
    "    \n",
    "    # filenames: holds all the activity files given subject\n",
    "    file_names = glob(\"./../dataset/\" + data_flag + \"/\" + folder +\"/*.csv\")\n",
    "    \n",
    "    #read each activity file of the subject\n",
    "    for file_name in file_names:\n",
    "        df = pd.read_csv(file_name, names =column_names, header=None)\n",
    "            \n",
    "        #append the processed dataset to dataframe \n",
    "        dataframe = dataframe.append(extract_features(df, feature), ignore_index=True)\n",
    "    \n",
    "    return dataframe\n",
    "    \n",
    "def extract_features(df, feature):\n",
    "    stats_df = pd.DataFrame()\n",
    "    switcher_df = df\n",
    "    stats_df = time_stats(switcher_df, feature)  \n",
    "    return(stats_df.transpose())\n",
    "\n",
    "def time_stats(switcher_df, switcher_feature):\n",
    "    switcher={\n",
    "        'mean': switcher_df.mean(),\n",
    "        'median': switcher_df.median(),\n",
    "        'min': switcher_df.min(),\n",
    "        'max': switcher_df.max(),\n",
    "        'std': switcher_df.std(),\n",
    "        'variance': switcher_df.var(),\n",
    "        'mad': switcher_df.mad(),\n",
    "        'rms': np.sqrt(np.sum(np.power((switcher_df),2))/len(switcher_df)),\n",
    "        'zcr': np.diff(np.signbit(switcher_df)).sum(),\n",
    "        'iqr': switcher_df.quantile(0.75) - switcher_df.quantile(0.25),\n",
    "        'pe': switcher_df.quantile(0.75),\n",
    "        'kurtosis': kurtosis(switcher_df),\n",
    "        'skew': skew(switcher_df)\n",
    "     }\n",
    "    return switcher.get(switcher_feature,\"Invalid feature\")\n",
    "\n",
    "    \n",
    "if __name__ == '__main__':\n",
    "    # read labled training data\n",
    "    train_label_df = pd.read_csv(\"./../dataset/train.csv\")\n",
    "    \n",
    "    # flag is to determine test and train data\n",
    "    data_flag = 'train'\n",
    "    \n",
    "    # Select required feature from the below set\n",
    "    # {'mean','median','min','max','std','variance','mad','rms','zcr','iqr','pe','kurtosis','skew'}\n",
    "    \n",
    "    features = ['mean','median','min','max','std','variance','mad','rms','iqr','pe']\n",
    "    \n",
    "    for feature in features:\n",
    "        main(train_label_df, feature, data_flag)"
   ]
  },
  {
   "cell_type": "markdown",
   "metadata": {},
   "source": [
    "### Join all the features together"
   ]
  },
  {
   "cell_type": "code",
   "execution_count": 3,
   "metadata": {},
   "outputs": [
    {
     "name": "stdout",
     "output_type": "stream",
     "text": [
      "(1738, 190)\n"
     ]
    }
   ],
   "source": [
    "test_df = pd.DataFrame()\n",
    "in_file = \"./../dataset/pickle/test/mean.pickle\"\n",
    "pickle_in = open(in_file,\"rb\")\n",
    "test_df = pickle.load(pickle_in)\n",
    "test_df.head()\n",
    "\n",
    "features = ['median','min','max','std','variance','mad','rms','iqr','pe']\n",
    "\n",
    "for feature in features:\n",
    "    df = pd.DataFrame()\n",
    "    in_file = \"./../dataset/pickle/test/\" + feature +\".pickle\"\n",
    "    pickle_in = open(in_file,\"rb\")\n",
    "    df = pickle.load(pickle_in)\n",
    "    test_df = pd.merge(test_df, df, left_index=True, right_index=True)\n",
    "    del(df)\n",
    "print(test_df.shape)\n",
    "X_test = test_df"
   ]
  },
  {
   "cell_type": "code",
   "execution_count": 4,
   "metadata": {},
   "outputs": [
    {
     "name": "stdout",
     "output_type": "stream",
     "text": [
      "(6401, 191)\n"
     ]
    }
   ],
   "source": [
    "train_df = pd.DataFrame()\n",
    "in_file = \"./../dataset/pickle/train/mean.pickle\"\n",
    "pickle_in = open(in_file,\"rb\")\n",
    "train_df = pickle.load(pickle_in)\n",
    "train_df.head()\n",
    "\n",
    "features = ['median','min','max','std','variance','mad','rms','iqr','pe']\n",
    "\n",
    "for feature in features:\n",
    "    df = pd.DataFrame()\n",
    "    in_file = \"./../dataset/pickle/train/\" + feature +\".pickle\"\n",
    "    pickle_in = open(in_file,\"rb\")\n",
    "    df = pickle.load(pickle_in)\n",
    "    df = df.drop([feature+'_activity'], axis=1)\n",
    "    train_df = pd.merge(train_df, df, left_index=True, right_index=True)\n",
    "    del(df)\n",
    "print(train_df.shape)"
   ]
  },
  {
   "cell_type": "code",
   "execution_count": 5,
   "metadata": {},
   "outputs": [
    {
     "data": {
      "text/plain": [
       "(6401, 191)"
      ]
     },
     "execution_count": 5,
     "metadata": {},
     "output_type": "execute_result"
    }
   ],
   "source": [
    "train_df.rename(columns={'mean_activity': 'activity'}, inplace=True)\n",
    "train_df.shape"
   ]
  },
  {
   "cell_type": "markdown",
   "metadata": {},
   "source": [
    "# Feature Selection"
   ]
  },
  {
   "cell_type": "markdown",
   "metadata": {},
   "source": [
    "Feature selection methods\n",
    "\n",
    "- Remove features with greater than a threshold percentage of missing values\n",
    "\n",
    "\n",
    "- Remove Collinear Features\n",
    "\n",
    "    One thing that should be kept in mind is that filter methods do not remove multicollinearity. So, you must deal with multicollinearity of features as well before training models for your data.\n",
    "    \n",
    "\n",
    "- Regualrization using Lasso\n",
    "\n",
    "    \n",
    "- Recursive Feature Elimination (RFE)\n",
    "\n",
    "    RFE works by recursively removing attributes and building a model on attributes that remain. It uses model accuracy to identify which attributes (and combinations of attributes) contribute the most to predicting the target attribute."
   ]
  },
  {
   "cell_type": "code",
   "execution_count": 6,
   "metadata": {},
   "outputs": [],
   "source": [
    "# Seperate the response variable from predicotr variables in training data\n",
    "X_train = train_df.drop(['activity'], axis=1)\n",
    "y_train = train_df['activity']"
   ]
  },
  {
   "cell_type": "markdown",
   "metadata": {},
   "source": [
    "### Remove features with greater than a threshold percentage of missing values"
   ]
  },
  {
   "cell_type": "code",
   "execution_count": 7,
   "metadata": {},
   "outputs": [
    {
     "name": "stdout",
     "output_type": "stream",
     "text": [
      "pe_gyro upper Z     0.0\n",
      "max_ACC lower Y     0.0\n",
      "max_Goniometer X    0.0\n",
      "max_EMG4            0.0\n",
      "max_EMG3            0.0\n",
      "dtype: float64\n"
     ]
    }
   ],
   "source": [
    "features_missing = (X_train.isnull().sum() / len(X_train)).sort_values(ascending = False)\n",
    "print(features_missing.head())"
   ]
  },
  {
   "cell_type": "code",
   "execution_count": 8,
   "metadata": {},
   "outputs": [
    {
     "name": "stdout",
     "output_type": "stream",
     "text": [
      "There are 0 columns with missing values\n"
     ]
    }
   ],
   "source": [
    "# Identify missing values above threshold\n",
    "features_missing = features_missing.index[features_missing > 0]\n",
    "print('There are {} columns with missing values'.format(len(features_missing)))"
   ]
  },
  {
   "cell_type": "markdown",
   "metadata": {},
   "source": [
    "### Remove collinear features"
   ]
  },
  {
   "cell_type": "markdown",
   "metadata": {},
   "source": [
    "Irrelevant features, highly correlated features, and missing values can prevent the model from learning and decrease generalization performance on the testing data. Therefore, we perform feature selection to keep only the most useful variables.\n",
    "\n",
    "We will start feature selection by focusing on collinear variables."
   ]
  },
  {
   "cell_type": "code",
   "execution_count": 9,
   "metadata": {},
   "outputs": [
    {
     "name": "stdout",
     "output_type": "stream",
     "text": [
      "correlated features:  19\n"
     ]
    }
   ],
   "source": [
    "# find and remove correlated features in order to reduce the feature space a bit so that the algorithm takes shorter to find the features\n",
    "\n",
    "def correlation(dataset, threshold):\n",
    "    col_corr = set()  # Set of all the names of correlated columns\n",
    "    corr_matrix = dataset.corr()\n",
    "    for i in range(len(corr_matrix.columns)):\n",
    "        for j in range(i):\n",
    "            if abs(corr_matrix.iloc[i, j]) > threshold: # we are interested in absolute coeff value\n",
    "                colname = corr_matrix.columns[i]  # getting the name of column\n",
    "                col_corr.add(colname)\n",
    "    return col_corr\n",
    "\n",
    "corr_features = correlation(X_train, 0.8)\n",
    "print('correlated features: ', len(set(corr_features)))"
   ]
  },
  {
   "cell_type": "code",
   "execution_count": 10,
   "metadata": {},
   "outputs": [
    {
     "data": {
      "text/plain": [
       "((6401, 171), (1738, 171))"
      ]
     },
     "execution_count": 10,
     "metadata": {},
     "output_type": "execute_result"
    }
   ],
   "source": [
    "# remove correlated  features\n",
    "X_train.drop(labels=corr_features, axis=1, inplace=True)\n",
    "X_test.drop(labels=corr_features, axis=1, inplace=True)\n",
    "\n",
    "X_train.shape, X_test.shape"
   ]
  },
  {
   "cell_type": "markdown",
   "metadata": {},
   "source": [
    "19 correlated features are removed. Now therea are 171 features remaining"
   ]
  },
  {
   "cell_type": "markdown",
   "metadata": {},
   "source": [
    "### Regularisation for Feature Selection:\n",
    "\n",
    "Regularisation consists in adding a penalty to the different parameters of the machine learning model to reduce the freedom of the model and in other words to avoid overfitting. \n",
    "\n",
    "Using Lasso shrinkage method"
   ]
  },
  {
   "cell_type": "code",
   "execution_count": 11,
   "metadata": {},
   "outputs": [],
   "source": [
    "from sklearn.preprocessing import StandardScaler\n",
    "\n",
    "# standardize the data for numerical precision for linear models (lasso regularization)\n",
    "scaler = StandardScaler()\n",
    "X_train_scaled = scaler.fit_transform(X_train)"
   ]
  },
  {
   "cell_type": "code",
   "execution_count": 12,
   "metadata": {},
   "outputs": [],
   "source": [
    "# Encoding the categorical Target variables\n",
    "from sklearn import preprocessing\n",
    "\n",
    "le = preprocessing.LabelEncoder()\n",
    "    \n",
    "y_train = le.fit_transform(y_train)\n",
    "# y_test = le.fit_transform(y_test)"
   ]
  },
  {
   "cell_type": "code",
   "execution_count": 13,
   "metadata": {},
   "outputs": [
    {
     "data": {
      "text/plain": [
       "SelectFromModel(estimator=Lasso(alpha=0.005, copy_X=True, fit_intercept=True,\n",
       "                                max_iter=1000, normalize=False, positive=False,\n",
       "                                precompute=False, random_state=0,\n",
       "                                selection='cyclic', tol=0.0001,\n",
       "                                warm_start=False),\n",
       "                max_features=None, norm_order=1, prefit=False, threshold=None)"
      ]
     },
     "execution_count": 13,
     "metadata": {},
     "output_type": "execute_result"
    }
   ],
   "source": [
    "from sklearn.feature_selection import SelectFromModel\n",
    "from sklearn.linear_model import Lasso\n",
    "\n",
    "# first specify the Lasso Regression model, and then select a suitable alpha (equivalent of penalty).\n",
    "# The bigger the alpha the less features that will be selected.\n",
    "\n",
    "# Then I use the selectFromModel object from sklearn, which will select the features which coefficients are non-zero\n",
    "\n",
    "feature_sel_model = SelectFromModel(Lasso(alpha=0.005, random_state=0))\n",
    "feature_sel_model.fit(X_train_scaled, y_train)"
   ]
  },
  {
   "cell_type": "code",
   "execution_count": 14,
   "metadata": {},
   "outputs": [
    {
     "name": "stdout",
     "output_type": "stream",
     "text": [
      "total features: 171\n",
      "selected features: 158\n",
      "features with coefficients shrank to zero: 13\n"
     ]
    }
   ],
   "source": [
    "# let's print the number of total and selected features\n",
    "\n",
    "# this is how we can make a list of the selected features\n",
    "selected_feat = X_train.columns[(feature_sel_model.get_support())]\n",
    "\n",
    "# let's print some stats\n",
    "print('total features: {}'.format((X_train.shape[1])))\n",
    "print('selected features: {}'.format(len(selected_feat)))\n",
    "print('features with coefficients shrank to zero: {}'.format(np.sum(feature_sel_model.estimator_.coef_ == 0)))"
   ]
  },
  {
   "cell_type": "code",
   "execution_count": 15,
   "metadata": {},
   "outputs": [],
   "source": [
    "X_train =  X_train[selected_feat]\n",
    "X_test = X_test[selected_feat]"
   ]
  },
  {
   "cell_type": "code",
   "execution_count": 16,
   "metadata": {
    "scrolled": true
   },
   "outputs": [
    {
     "data": {
      "text/plain": [
       "((6401, 158), (1738, 158))"
      ]
     },
     "execution_count": 16,
     "metadata": {},
     "output_type": "execute_result"
    }
   ],
   "source": [
    "X_train.shape, X_test.shape"
   ]
  },
  {
   "cell_type": "markdown",
   "metadata": {},
   "source": [
    "### Recursive Feature Elimination:\n",
    "\n",
    "Feature ranking with recursive feature elimination is used to find the best number of features for the model.\n",
    "\n",
    "Implementing the Recursive Feature Elimination method of feature ranking via the use of RandomForest Classifier"
   ]
  },
  {
   "cell_type": "code",
   "execution_count": 17,
   "metadata": {
    "scrolled": true
   },
   "outputs": [
    {
     "data": {
      "text/plain": [
       "RFECV(cv=StratifiedKFold(n_splits=2, random_state=None, shuffle=False),\n",
       "      estimator=RandomForestClassifier(bootstrap=True, class_weight=None,\n",
       "                                       criterion='gini', max_depth=None,\n",
       "                                       max_features=0.25, max_leaf_nodes=None,\n",
       "                                       min_impurity_decrease=0.0,\n",
       "                                       min_impurity_split=None,\n",
       "                                       min_samples_leaf=1, min_samples_split=2,\n",
       "                                       min_weight_fraction_leaf=0.0,\n",
       "                                       n_estimators=30, n_jobs=None,\n",
       "                                       oob_score=False, random_state=None,\n",
       "                                       verbose=0, warm_start=False),\n",
       "      min_features_to_select=1, n_jobs=None, scoring='accuracy', step=20,\n",
       "      verbose=0)"
      ]
     },
     "execution_count": 17,
     "metadata": {},
     "output_type": "execute_result"
    }
   ],
   "source": [
    "import matplotlib.pyplot as plt\n",
    "from sklearn.ensemble import RandomForestClassifier\n",
    "from sklearn.model_selection import StratifiedKFold\n",
    "from sklearn.feature_selection import RFECV\n",
    "\n",
    "\n",
    "# Create the RFE object and compute a cross-validated score.\n",
    "RandomForest_clf = RandomForestClassifier(max_features=0.25, n_estimators=30)\n",
    "\n",
    "# The \"accuracy\" scoring is proportional to the number of correct\n",
    "# classifications\n",
    "rfecv = RFECV(estimator=RandomForest_clf, step=20, cv=StratifiedKFold(2), scoring='accuracy')\n",
    "rfecv.fit(X_train, y_train)"
   ]
  },
  {
   "cell_type": "code",
   "execution_count": 18,
   "metadata": {
    "scrolled": true
   },
   "outputs": [
    {
     "name": "stdout",
     "output_type": "stream",
     "text": [
      "Optimal number of features : 18\n"
     ]
    },
    {
     "data": {
      "image/png": "[encoded data removed]",
      "text/plain": [
       "<Figure size 432x288 with 1 Axes>"
      ]
     },
     "metadata": {},
     "output_type": "display_data"
    }
   ],
   "source": [
    "print(\"Optimal number of features : %d\" % rfecv.n_features_)\n",
    "\n",
    "# Plot number of features VS. cross-validation scores\n",
    "plt.figure()\n",
    "plt.xlabel(\"Number of features selected\")\n",
    "plt.ylabel(\"Cross validation score\")\n",
    "plt.plot(range(1, len(rfecv.grid_scores_) + 1), rfecv.grid_scores_)\n",
    "plt.savefig('./../report/Feature Selection.png', dpi=300, bbox_inches='tight')\n",
    "plt.show()"
   ]
  },
  {
   "cell_type": "code",
   "execution_count": 23,
   "metadata": {},
   "outputs": [
    {
     "data": {
      "text/plain": [
       "SelectFromModel(estimator=RandomForestClassifier(bootstrap=True,\n",
       "                                                 class_weight=None,\n",
       "                                                 criterion='gini',\n",
       "                                                 max_depth=None,\n",
       "                                                 max_features='auto',\n",
       "                                                 max_leaf_nodes=None,\n",
       "                                                 min_impurity_decrease=0.0,\n",
       "                                                 min_impurity_split=None,\n",
       "                                                 min_samples_leaf=1,\n",
       "                                                 min_samples_split=2,\n",
       "                                                 min_weight_fraction_leaf=0.0,\n",
       "                                                 n_estimators=30, n_jobs=None,\n",
       "                                                 oob_score=False,\n",
       "                                                 random_state=None, verbose=0,\n",
       "                                                 warm_start=False),\n",
       "                max_features=None, norm_order=1, prefit=False, threshold=None)"
      ]
     },
     "execution_count": 23,
     "metadata": {},
     "output_type": "execute_result"
    }
   ],
   "source": [
    "sel = SelectFromModel(RandomForestClassifier(n_estimators = 30))\n",
    "sel.fit(X_train, y_train)"
   ]
  },
  {
   "cell_type": "code",
   "execution_count": 24,
   "metadata": {
    "scrolled": true
   },
   "outputs": [
    {
     "data": {
      "text/plain": [
       "<matplotlib.axes._subplots.AxesSubplot at 0x1f0f836fe88>"
      ]
     },
     "execution_count": 24,
     "metadata": {},
     "output_type": "execute_result"
    },
    {
     "data": {
      "image/png": "[encoded data removed]",
      "text/plain": [
       "<Figure size 432x288 with 1 Axes>"
      ]
     },
     "metadata": {},
     "output_type": "display_data"
    }
   ],
   "source": [
    "pd.Series(sel.estimator_.feature_importances_.ravel()).hist()"
   ]
  },
  {
   "cell_type": "code",
   "execution_count": 26,
   "metadata": {},
   "outputs": [
    {
     "data": {
      "text/plain": [
       "Index(['mean_ACC loewr Z', 'mean_ACC lower X', 'mean_ACC lower Y',\n",
       "       'mean_ACC upper X', 'mean_ACC upper Y', 'mean_ACC upper Z',\n",
       "       'mean_Airborne', 'mean_EMG1', 'mean_EMG2', 'mean_EMG3', 'mean_EMG4',\n",
       "       'mean_Goniometer X', 'mean_Goniometer Y', 'mean_gyro lower X',\n",
       "       'mean_gyro upper X', 'mean_gyro upper Y', 'mean_gyro upper Z'],\n",
       "      dtype='object')"
      ]
     },
     "execution_count": 26,
     "metadata": {},
     "output_type": "execute_result"
    }
   ],
   "source": [
    "selected_feat= X_train.columns[(sel.get_support())]\n",
    "selected_feat"
   ]
  },
  {
   "cell_type": "code",
   "execution_count": 27,
   "metadata": {},
   "outputs": [
    {
     "data": {
      "text/plain": [
       "((6401, 17), (1738, 17))"
      ]
     },
     "execution_count": 27,
     "metadata": {},
     "output_type": "execute_result"
    }
   ],
   "source": [
    "X_train =  X_train[selected_feat]\n",
    "X_test = X_test[selected_feat]\n",
    "X_train.shape, X_test.shape"
   ]
  },
  {
   "cell_type": "code",
   "execution_count": null,
   "metadata": {},
   "outputs": [],
   "source": [
    "X_train_path = \"./../dataset/pickle/X_train.pickle\"\n",
    "pickle_out = open(X_train_path,\"wb\")\n",
    "pickle.dump(X_train, pickle_out)\n",
    "\n",
    "y_train_path = \"./../dataset/pickle/y_train.pickle\"\n",
    "pickle_out = open(y_train_path,\"wb\")\n",
    "pickle.dump(y_train, pickle_out)\n",
    "\n",
    "X_test_path = \"./../dataset/pickle/X_test.pickle\"\n",
    "pickle_out = open(X_test_path,\"wb\")\n",
    "pickle.dump(X_test, pickle_out)"
   ]
  },
  {
   "cell_type": "code",
   "execution_count": null,
   "metadata": {},
   "outputs": [],
   "source": [
    "X_train = pd.DataFrame()\n",
    "X_train_path = \"./../dataset/pickle/X_train.pickle\"\n",
    "pickle_in = open(X_train_path,\"rb\")\n",
    "X_train = pickle.load(pickle_in)\n",
    "\n",
    "y_train = pd.DataFrame()\n",
    "y_train_path = \"./../dataset/pickle/y_train.pickle\"\n",
    "pickle_in = open(y_train_path,\"rb\")\n",
    "y_train = pickle.load(pickle_in)\n",
    "\n",
    "X_test = pd.DataFrame()\n",
    "X_test_path = \"./../dataset/pickle/X_test1.pickle\"\n",
    "pickle_in = open(X_test_path,\"rb\")\n",
    "X_test = pickle.load(pickle_in)"
   ]
  },
  {
   "cell_type": "code",
   "execution_count": null,
   "metadata": {},
   "outputs": [],
   "source": [
    "X_train.shape, X_test.shape"
   ]
  },
  {
   "cell_type": "markdown",
   "metadata": {},
   "source": [
    "### Model Selction and hyperparameter tuning using GridSearchCV\n",
    "\n",
    "Grid search is an approach to parameter tuning that will methodically build and evaluate a model for each combination of algorithm parameters specified in a grid.\n",
    "\n",
    "Using Pipeline and GridSearchCV to perform hyper parameter tuning in order to determine the optimal values for a given models."
   ]
  },
  {
   "cell_type": "code",
   "execution_count": 28,
   "metadata": {},
   "outputs": [],
   "source": [
    "import joblib\n",
    "import pickle\n",
    "\n",
    "from sklearn.preprocessing import StandardScaler\n",
    "\n",
    "from sklearn import metrics, model_selection, preprocessing\n",
    "\n",
    "from sklearn.linear_model import LogisticRegression\n",
    "from sklearn.neighbors import KNeighborsClassifier\n",
    "from sklearn.ensemble import RandomForestClassifier\n",
    "\n",
    "from sklearn.model_selection import GridSearchCV\n",
    "\n",
    "from sklearn.pipeline import Pipeline\n"
   ]
  },
  {
   "cell_type": "code",
   "execution_count": 29,
   "metadata": {},
   "outputs": [
    {
     "name": "stderr",
     "output_type": "stream",
     "text": [
      "C:\\ProgramData\\Anaconda3\\lib\\site-packages\\sklearn\\linear_model\\logistic.py:432: FutureWarning: Default solver will be changed to 'lbfgs' in 0.22. Specify a solver to silence this warning.\n",
      "  FutureWarning)\n",
      "C:\\ProgramData\\Anaconda3\\lib\\site-packages\\sklearn\\linear_model\\logistic.py:432: FutureWarning: Default solver will be changed to 'lbfgs' in 0.22. Specify a solver to silence this warning.\n",
      "  FutureWarning)\n",
      "C:\\ProgramData\\Anaconda3\\lib\\site-packages\\sklearn\\linear_model\\logistic.py:432: FutureWarning: Default solver will be changed to 'lbfgs' in 0.22. Specify a solver to silence this warning.\n",
      "  FutureWarning)\n",
      "C:\\ProgramData\\Anaconda3\\lib\\site-packages\\sklearn\\linear_model\\logistic.py:432: FutureWarning: Default solver will be changed to 'lbfgs' in 0.22. Specify a solver to silence this warning.\n",
      "  FutureWarning)\n",
      "C:\\ProgramData\\Anaconda3\\lib\\site-packages\\sklearn\\linear_model\\logistic.py:432: FutureWarning: Default solver will be changed to 'lbfgs' in 0.22. Specify a solver to silence this warning.\n",
      "  FutureWarning)\n",
      "C:\\ProgramData\\Anaconda3\\lib\\site-packages\\sklearn\\linear_model\\logistic.py:432: FutureWarning: Default solver will be changed to 'lbfgs' in 0.22. Specify a solver to silence this warning.\n",
      "  FutureWarning)\n",
      "C:\\ProgramData\\Anaconda3\\lib\\site-packages\\sklearn\\linear_model\\logistic.py:432: FutureWarning: Default solver will be changed to 'lbfgs' in 0.22. Specify a solver to silence this warning.\n",
      "  FutureWarning)\n",
      "C:\\ProgramData\\Anaconda3\\lib\\site-packages\\sklearn\\linear_model\\logistic.py:432: FutureWarning: Default solver will be changed to 'lbfgs' in 0.22. Specify a solver to silence this warning.\n",
      "  FutureWarning)\n",
      "C:\\ProgramData\\Anaconda3\\lib\\site-packages\\sklearn\\linear_model\\logistic.py:432: FutureWarning: Default solver will be changed to 'lbfgs' in 0.22. Specify a solver to silence this warning.\n",
      "  FutureWarning)\n",
      "C:\\ProgramData\\Anaconda3\\lib\\site-packages\\sklearn\\linear_model\\logistic.py:432: FutureWarning: Default solver will be changed to 'lbfgs' in 0.22. Specify a solver to silence this warning.\n",
      "  FutureWarning)\n",
      "C:\\ProgramData\\Anaconda3\\lib\\site-packages\\sklearn\\linear_model\\logistic.py:432: FutureWarning: Default solver will be changed to 'lbfgs' in 0.22. Specify a solver to silence this warning.\n",
      "  FutureWarning)\n",
      "C:\\ProgramData\\Anaconda3\\lib\\site-packages\\sklearn\\linear_model\\logistic.py:432: FutureWarning: Default solver will be changed to 'lbfgs' in 0.22. Specify a solver to silence this warning.\n",
      "  FutureWarning)\n",
      "C:\\ProgramData\\Anaconda3\\lib\\site-packages\\sklearn\\linear_model\\logistic.py:432: FutureWarning: Default solver will be changed to 'lbfgs' in 0.22. Specify a solver to silence this warning.\n",
      "  FutureWarning)\n",
      "C:\\ProgramData\\Anaconda3\\lib\\site-packages\\sklearn\\linear_model\\logistic.py:432: FutureWarning: Default solver will be changed to 'lbfgs' in 0.22. Specify a solver to silence this warning.\n",
      "  FutureWarning)\n",
      "C:\\ProgramData\\Anaconda3\\lib\\site-packages\\sklearn\\linear_model\\logistic.py:432: FutureWarning: Default solver will be changed to 'lbfgs' in 0.22. Specify a solver to silence this warning.\n",
      "  FutureWarning)\n",
      "C:\\ProgramData\\Anaconda3\\lib\\site-packages\\sklearn\\linear_model\\logistic.py:432: FutureWarning: Default solver will be changed to 'lbfgs' in 0.22. Specify a solver to silence this warning.\n",
      "  FutureWarning)\n",
      "C:\\ProgramData\\Anaconda3\\lib\\site-packages\\sklearn\\linear_model\\logistic.py:432: FutureWarning: Default solver will be changed to 'lbfgs' in 0.22. Specify a solver to silence this warning.\n",
      "  FutureWarning)\n",
      "C:\\ProgramData\\Anaconda3\\lib\\site-packages\\sklearn\\linear_model\\logistic.py:432: FutureWarning: Default solver will be changed to 'lbfgs' in 0.22. Specify a solver to silence this warning.\n",
      "  FutureWarning)\n",
      "C:\\ProgramData\\Anaconda3\\lib\\site-packages\\sklearn\\linear_model\\logistic.py:432: FutureWarning: Default solver will be changed to 'lbfgs' in 0.22. Specify a solver to silence this warning.\n",
      "  FutureWarning)\n",
      "C:\\ProgramData\\Anaconda3\\lib\\site-packages\\sklearn\\linear_model\\logistic.py:432: FutureWarning: Default solver will be changed to 'lbfgs' in 0.22. Specify a solver to silence this warning.\n",
      "  FutureWarning)\n",
      "C:\\ProgramData\\Anaconda3\\lib\\site-packages\\sklearn\\linear_model\\logistic.py:432: FutureWarning: Default solver will be changed to 'lbfgs' in 0.22. Specify a solver to silence this warning.\n",
      "  FutureWarning)\n",
      "C:\\ProgramData\\Anaconda3\\lib\\site-packages\\sklearn\\linear_model\\logistic.py:432: FutureWarning: Default solver will be changed to 'lbfgs' in 0.22. Specify a solver to silence this warning.\n",
      "  FutureWarning)\n",
      "C:\\ProgramData\\Anaconda3\\lib\\site-packages\\sklearn\\linear_model\\logistic.py:432: FutureWarning: Default solver will be changed to 'lbfgs' in 0.22. Specify a solver to silence this warning.\n",
      "  FutureWarning)\n",
      "C:\\ProgramData\\Anaconda3\\lib\\site-packages\\sklearn\\linear_model\\logistic.py:432: FutureWarning: Default solver will be changed to 'lbfgs' in 0.22. Specify a solver to silence this warning.\n",
      "  FutureWarning)\n",
      "C:\\ProgramData\\Anaconda3\\lib\\site-packages\\sklearn\\linear_model\\logistic.py:432: FutureWarning: Default solver will be changed to 'lbfgs' in 0.22. Specify a solver to silence this warning.\n",
      "  FutureWarning)\n",
      "C:\\ProgramData\\Anaconda3\\lib\\site-packages\\sklearn\\linear_model\\logistic.py:432: FutureWarning: Default solver will be changed to 'lbfgs' in 0.22. Specify a solver to silence this warning.\n",
      "  FutureWarning)\n",
      "C:\\ProgramData\\Anaconda3\\lib\\site-packages\\sklearn\\linear_model\\logistic.py:432: FutureWarning: Default solver will be changed to 'lbfgs' in 0.22. Specify a solver to silence this warning.\n",
      "  FutureWarning)\n",
      "C:\\ProgramData\\Anaconda3\\lib\\site-packages\\sklearn\\linear_model\\logistic.py:432: FutureWarning: Default solver will be changed to 'lbfgs' in 0.22. Specify a solver to silence this warning.\n",
      "  FutureWarning)\n",
      "C:\\ProgramData\\Anaconda3\\lib\\site-packages\\sklearn\\linear_model\\logistic.py:432: FutureWarning: Default solver will be changed to 'lbfgs' in 0.22. Specify a solver to silence this warning.\n",
      "  FutureWarning)\n",
      "C:\\ProgramData\\Anaconda3\\lib\\site-packages\\sklearn\\linear_model\\logistic.py:432: FutureWarning: Default solver will be changed to 'lbfgs' in 0.22. Specify a solver to silence this warning.\n",
      "  FutureWarning)\n",
      "C:\\ProgramData\\Anaconda3\\lib\\site-packages\\sklearn\\linear_model\\logistic.py:432: FutureWarning: Default solver will be changed to 'lbfgs' in 0.22. Specify a solver to silence this warning.\n",
      "  FutureWarning)\n",
      "C:\\ProgramData\\Anaconda3\\lib\\site-packages\\sklearn\\linear_model\\logistic.py:432: FutureWarning: Default solver will be changed to 'lbfgs' in 0.22. Specify a solver to silence this warning.\n",
      "  FutureWarning)\n",
      "C:\\ProgramData\\Anaconda3\\lib\\site-packages\\sklearn\\linear_model\\logistic.py:432: FutureWarning: Default solver will be changed to 'lbfgs' in 0.22. Specify a solver to silence this warning.\n",
      "  FutureWarning)\n",
      "C:\\ProgramData\\Anaconda3\\lib\\site-packages\\sklearn\\linear_model\\logistic.py:432: FutureWarning: Default solver will be changed to 'lbfgs' in 0.22. Specify a solver to silence this warning.\n",
      "  FutureWarning)\n",
      "C:\\ProgramData\\Anaconda3\\lib\\site-packages\\sklearn\\linear_model\\logistic.py:432: FutureWarning: Default solver will be changed to 'lbfgs' in 0.22. Specify a solver to silence this warning.\n",
      "  FutureWarning)\n",
      "C:\\ProgramData\\Anaconda3\\lib\\site-packages\\sklearn\\linear_model\\logistic.py:432: FutureWarning: Default solver will be changed to 'lbfgs' in 0.22. Specify a solver to silence this warning.\n",
      "  FutureWarning)\n",
      "C:\\ProgramData\\Anaconda3\\lib\\site-packages\\sklearn\\linear_model\\logistic.py:432: FutureWarning: Default solver will be changed to 'lbfgs' in 0.22. Specify a solver to silence this warning.\n",
      "  FutureWarning)\n",
      "C:\\ProgramData\\Anaconda3\\lib\\site-packages\\sklearn\\linear_model\\logistic.py:432: FutureWarning: Default solver will be changed to 'lbfgs' in 0.22. Specify a solver to silence this warning.\n",
      "  FutureWarning)\n",
      "C:\\ProgramData\\Anaconda3\\lib\\site-packages\\sklearn\\linear_model\\logistic.py:432: FutureWarning: Default solver will be changed to 'lbfgs' in 0.22. Specify a solver to silence this warning.\n",
      "  FutureWarning)\n",
      "C:\\ProgramData\\Anaconda3\\lib\\site-packages\\sklearn\\linear_model\\logistic.py:432: FutureWarning: Default solver will be changed to 'lbfgs' in 0.22. Specify a solver to silence this warning.\n",
      "  FutureWarning)\n"
     ]
    },
    {
     "name": "stderr",
     "output_type": "stream",
     "text": [
      "C:\\ProgramData\\Anaconda3\\lib\\site-packages\\sklearn\\linear_model\\logistic.py:432: FutureWarning: Default solver will be changed to 'lbfgs' in 0.22. Specify a solver to silence this warning.\n",
      "  FutureWarning)\n",
      "C:\\ProgramData\\Anaconda3\\lib\\site-packages\\sklearn\\linear_model\\logistic.py:432: FutureWarning: Default solver will be changed to 'lbfgs' in 0.22. Specify a solver to silence this warning.\n",
      "  FutureWarning)\n",
      "C:\\ProgramData\\Anaconda3\\lib\\site-packages\\sklearn\\linear_model\\logistic.py:432: FutureWarning: Default solver will be changed to 'lbfgs' in 0.22. Specify a solver to silence this warning.\n",
      "  FutureWarning)\n",
      "C:\\ProgramData\\Anaconda3\\lib\\site-packages\\sklearn\\linear_model\\logistic.py:432: FutureWarning: Default solver will be changed to 'lbfgs' in 0.22. Specify a solver to silence this warning.\n",
      "  FutureWarning)\n",
      "C:\\ProgramData\\Anaconda3\\lib\\site-packages\\sklearn\\linear_model\\logistic.py:432: FutureWarning: Default solver will be changed to 'lbfgs' in 0.22. Specify a solver to silence this warning.\n",
      "  FutureWarning)\n",
      "C:\\ProgramData\\Anaconda3\\lib\\site-packages\\sklearn\\linear_model\\logistic.py:432: FutureWarning: Default solver will be changed to 'lbfgs' in 0.22. Specify a solver to silence this warning.\n",
      "  FutureWarning)\n",
      "C:\\ProgramData\\Anaconda3\\lib\\site-packages\\sklearn\\linear_model\\logistic.py:432: FutureWarning: Default solver will be changed to 'lbfgs' in 0.22. Specify a solver to silence this warning.\n",
      "  FutureWarning)\n",
      "C:\\ProgramData\\Anaconda3\\lib\\site-packages\\sklearn\\linear_model\\logistic.py:432: FutureWarning: Default solver will be changed to 'lbfgs' in 0.22. Specify a solver to silence this warning.\n",
      "  FutureWarning)\n",
      "C:\\ProgramData\\Anaconda3\\lib\\site-packages\\sklearn\\linear_model\\logistic.py:432: FutureWarning: Default solver will be changed to 'lbfgs' in 0.22. Specify a solver to silence this warning.\n",
      "  FutureWarning)\n",
      "C:\\ProgramData\\Anaconda3\\lib\\site-packages\\sklearn\\linear_model\\logistic.py:432: FutureWarning: Default solver will be changed to 'lbfgs' in 0.22. Specify a solver to silence this warning.\n",
      "  FutureWarning)\n",
      "C:\\ProgramData\\Anaconda3\\lib\\site-packages\\sklearn\\linear_model\\logistic.py:432: FutureWarning: Default solver will be changed to 'lbfgs' in 0.22. Specify a solver to silence this warning.\n",
      "  FutureWarning)\n"
     ]
    },
    {
     "name": "stdout",
     "output_type": "stream",
     "text": [
      "Logistic Regression: model best parameters are --> {'l_reg__C': 464.15888336127773, 'l_reg__penalty': 'l2'}\n",
      "Logistic Regression: cv accuracy is  44.52429307920637\n",
      "KNN: model best parameters are --> {'knn__n_neighbors': 1, 'knn__weights': 'uniform'}\n",
      "KNN: cv accuracy is  88.01749726605217\n",
      "RandomForest: model best parameters are --> {'rf__max_features': 0.25, 'rf__n_estimators': 30}\n",
      "RandomForest: cv accuracy is  94.36025620996719\n"
     ]
    }
   ],
   "source": [
    "pipeline_lr = Pipeline([('scaler1',StandardScaler()), ('l_reg',LogisticRegression(multi_class='auto', random_state=42))])\n",
    "\n",
    "pipeline_knn = Pipeline([('scaler',StandardScaler()), ('knn',KNeighborsClassifier())])\n",
    "\n",
    "pipeline_randomforest = Pipeline([('rf',RandomForestClassifier())])\n",
    "\n",
    "model_pipeline = [pipeline_lr, pipeline_knn, pipeline_randomforest]\n",
    "\n",
    "# Dictionary of pipelines and classifier types for ease of reference\n",
    "pipe_dict = {0:'Logistic Regression', 1: 'KNN', 2: 'RandomForest'}\n",
    "\n",
    "parameters = [\n",
    "                {\n",
    "                'l_reg__penalty': ['l2'],\n",
    "                'l_reg__C': np.logspace(0, 4, 10)\n",
    "                },\n",
    "                {\n",
    "                 'knn__n_neighbors': range(1, 20),\n",
    "                 'knn__weights': ['uniform', 'distance']\n",
    "                },\n",
    "                {\n",
    "                 'rf__n_estimators': [10, 30],\n",
    "                 'rf__max_features': [0.25, 1.0]\n",
    "                }\n",
    "#                 {\n",
    "#                 'svm__C':(1, 0.25, 0.5, 0.75),\n",
    "#                 }\n",
    "#                 {'clf__nthread': [4], #when use hyperthread, xgboost may become slower\n",
    "#                 'clf__objective': ['binary:logistic'],\n",
    "#                 'clf__learning_rate': [0.05], #so called `eta` value\n",
    "#                 'clf__max_depth': [6],\n",
    "#                 'clf__min_child_weight': [11],\n",
    "#                 'clf__silent': [1],\n",
    "#                 'clf__subsample': [0.8],\n",
    "#                 'clf__colsample_bytree': [0.7],\n",
    "#                 'clf__n_estimators': [5], #number of trees, change it to 1000 for better results\n",
    "#                 'clf__seed': [1337]}\n",
    "               # {'estimator':[Any_other_estimator_you_want],\n",
    "               #  'estimator__valid_param_of_your_estimator':[valid_values]}\n",
    "              ]\n",
    "\n",
    "# fit the pipeline with the training data\n",
    "for model, pipe in zip(model_pipeline, pipe_dict):\n",
    "    grid_search = GridSearchCV(estimator=model, \n",
    "                               param_grid=parameters[pipe], \n",
    "                               cv = model_selection.StratifiedKFold(n_splits=5, shuffle=False, random_state=42)\n",
    "                              )\n",
    "    grid_search.fit(X_train, y_train)\n",
    "\n",
    "    joblib.dump(grid_search, f\"./../models/{pipe_dict[pipe]}.pkl\")\n",
    "\n",
    "    print(\"{}: model best parameters are --> {}\".format(pipe_dict[pipe], grid_search.best_params_))\n",
    "\n",
    "    print(\"{}: cv accuracy is  {}\".format(pipe_dict[pipe], grid_search.best_score_*100))"
   ]
  },
  {
   "cell_type": "markdown",
   "metadata": {},
   "source": [
    "The best model and parameters determined from GridSearchCV are the following\n",
    "- Estimator: RandomForest\n",
    "- Hyperparameters: 'max_features': 0.25, 'n_estimators': 30\n",
    "\n",
    "Now we find the number features at which we get best performance"
   ]
  },
  {
   "cell_type": "markdown",
   "metadata": {},
   "source": [
    "### Model Building\n",
    "\n",
    "Now build a model with Model and hyperparameters obtained from the results of GridSearchCV"
   ]
  },
  {
   "cell_type": "code",
   "execution_count": 30,
   "metadata": {},
   "outputs": [
    {
     "data": {
      "text/plain": [
       "((4800, 17), (1601, 17))"
      ]
     },
     "execution_count": 30,
     "metadata": {},
     "output_type": "execute_result"
    }
   ],
   "source": [
    "from sklearn.model_selection import train_test_split\n",
    "\n",
    "# separate train and test sets\n",
    "train_x, valid_x, train_y, valid_y = train_test_split(\n",
    "    X_train,\n",
    "    y_train,\n",
    "    test_size=0.25,\n",
    "    random_state=42)\n",
    "\n",
    "train_x.shape, valid_x.shape"
   ]
  },
  {
   "cell_type": "code",
   "execution_count": 31,
   "metadata": {},
   "outputs": [
    {
     "data": {
      "text/plain": [
       "RandomForestClassifier(bootstrap=True, class_weight=None, criterion='gini',\n",
       "                       max_depth=None, max_features=0.25, max_leaf_nodes=None,\n",
       "                       min_impurity_decrease=0.0, min_impurity_split=None,\n",
       "                       min_samples_leaf=1, min_samples_split=2,\n",
       "                       min_weight_fraction_leaf=0.0, n_estimators=30,\n",
       "                       n_jobs=None, oob_score=False, random_state=None,\n",
       "                       verbose=0, warm_start=False)"
      ]
     },
     "execution_count": 31,
     "metadata": {},
     "output_type": "execute_result"
    }
   ],
   "source": [
    "from sklearn.ensemble import RandomForestClassifier\n",
    "\n",
    "# Create the model with 100 trees\n",
    "model_rf = RandomForestClassifier(n_estimators=30, \n",
    "                               bootstrap = True,\n",
    "                               max_features = 0.25)\n",
    "# Fit on training data\n",
    "model_rf.fit(train_x, train_y)"
   ]
  },
  {
   "cell_type": "code",
   "execution_count": 32,
   "metadata": {
    "scrolled": true
   },
   "outputs": [],
   "source": [
    "# Actual class predictions\n",
    "rf_predictions = model_rf.predict(valid_x)\n",
    "# Probabilities for each class\n",
    "rf_probs = model_rf.predict_proba(valid_x)[:, 1]"
   ]
  },
  {
   "cell_type": "markdown",
   "metadata": {},
   "source": [
    "### Model Evaluation:\n",
    "\n",
    "Now we shall evaluate the model built for our classification task.\n",
    "\n",
    "Compute confusion matrix in order to calcualte the accuracy of the model"
   ]
  },
  {
   "cell_type": "code",
   "execution_count": 33,
   "metadata": {},
   "outputs": [],
   "source": [
    "from sklearn.metrics import confusion_matrix\n",
    "\n",
    "# Compute confusion matrix\n",
    "conf_matrix = confusion_matrix(valid_y, rf_predictions)\n",
    "np.set_printoptions(precision=2)"
   ]
  },
  {
   "cell_type": "code",
   "execution_count": 39,
   "metadata": {},
   "outputs": [
    {
     "data": {
      "image/png": "[encoded data removed]",
      "text/plain": [
       "<Figure size 1152x720 with 2 Axes>"
      ]
     },
     "metadata": {},
     "output_type": "display_data"
    }
   ],
   "source": [
    "cm = pd.DataFrame(conf_matrix, index=np.unique(valid_y), columns=np.unique(valid_y))\n",
    "cm.index.name = 'Actual'\n",
    "cm.columns.name = 'Predicted'\n",
    "plt.figure(figsize = (16,10))\n",
    "sns.set(font_scale=1.4)#for label size\n",
    "sns.heatmap(cm, cmap=\"BuPu\", annot=True,annot_kws={\"size\": 16})# font size\n",
    "plt.savefig('./../report/Confusion Matrix.png', dpi=300, bbox_inches='tight')"
   ]
  },
  {
   "cell_type": "code",
   "execution_count": 35,
   "metadata": {},
   "outputs": [],
   "source": [
    "#Metrics definition.\n",
    "def accuracy(confusion_matrix):\n",
    "    sum_diagonal=sum(np.diagonal(confusion_matrix))\n",
    "    total=sum(sum(confusion_matrix))\n",
    "    return (sum_diagonal/total)\n",
    "\n",
    "def precision(label, confusion_matrix):\n",
    "    col = confusion_matrix[:, label]\n",
    "    return confusion_matrix[label, label] / col.sum()\n",
    "    \n",
    "def recall(label, confusion_matrix):\n",
    "    row = confusion_matrix[label, :]\n",
    "    return confusion_matrix[label, label] / row.sum()"
   ]
  },
  {
   "cell_type": "code",
   "execution_count": 36,
   "metadata": {},
   "outputs": [
    {
     "name": "stdout",
     "output_type": "stream",
     "text": [
      "Overall test accuracy using hypertuned RandomForest model is 0.9269206745783886\n"
     ]
    }
   ],
   "source": [
    "print(\"Overall test accuracy using hypertuned RandomForest model is {}\".format(accuracy(conf_matrix)))"
   ]
  }
 ],
 "metadata": {
  "kernelspec": {
   "display_name": "Python 3",
   "language": "python",
   "name": "python3"
  },
  "language_info": {
   "codemirror_mode": {
    "name": "ipython",
    "version": 3
   },
   "file_extension": ".py",
   "mimetype": "text/x-python",
   "name": "python",
   "nbconvert_exporter": "python",
   "pygments_lexer": "ipython3",
   "version": "3.7.4"
  }
 },
 "nbformat": 4,
 "nbformat_minor": 2
}
